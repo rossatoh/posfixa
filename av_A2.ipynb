{
  "nbformat": 4,
  "nbformat_minor": 0,
  "metadata": {
    "colab": {
      "name": "av_A2.ipynb",
      "provenance": [],
      "authorship_tag": "ABX9TyOdHHKsuSiJ+0GKjB1w2w71",
      "include_colab_link": true
    },
    "kernelspec": {
      "name": "python3",
      "display_name": "Python 3"
    },
    "language_info": {
      "name": "python"
    }
  },
  "cells": [
    {
      "cell_type": "markdown",
      "metadata": {
        "id": "view-in-github",
        "colab_type": "text"
      },
      "source": [
        "<a href=\"https://colab.research.google.com/github/rossatoh/posfixa/blob/main/av_A2.ipynb\" target=\"_parent\"><img src=\"https://colab.research.google.com/assets/colab-badge.svg\" alt=\"Open In Colab\"/></a>"
      ]
    },
    {
      "cell_type": "code",
      "metadata": {
        "id": "hLcuuBpA4zQ1"
      },
      "source": [
        "class Pilha:\n",
        "    def __init__(self): #construtor da classe - será executado ao criar um abjeto\n",
        "        self.dados = [] #lista para armazenar os dados da Pilha - self para ficar dentro da class\n",
        "\n",
        "    def push(self, pval): #inserir pval no topo da Pilha\n",
        "        self.dados.append(pval)\n",
        "    \n",
        "    def pop(self):\n",
        "        return self.dados.pop()\n",
        "\n",
        "    def vazia(self):\n",
        "        return False if self.dados else True\n",
        "    \n",
        "    def topo(self):\n",
        "        return self.dados[-1]\n",
        "\n",
        "    def mostrar(self, *args):\n",
        "        if args:\n",
        "            print(args[0])\n",
        "        for i in range(len(self.dados)-1, -1, -1):\n",
        "            print(self.dados[i])"
      ],
      "execution_count": null,
      "outputs": []
    },
    {
      "cell_type": "code",
      "metadata": {
        "colab": {
          "base_uri": "https://localhost:8080/"
        },
        "id": "dIPfpBFs4vU2",
        "outputId": "8158a191-5d91-470b-d48c-cab66b8390c0"
      },
      "source": [
        "def pf(pinfixa):\n",
        "    prio = {\"*\": 3, \"/\":3, \"+\": 2,\"-\": 2,\"(\": 1}\n",
        "    p = Pilha()\n",
        "    posfixa = []\n",
        "\n",
        "    for i in range(len(pinfixa)):\n",
        "        c = pinfixa[i]\n",
        "        if c >= '0' and c <= '9' or c.lower() >= 'a' and c.lower() <= 'z':\n",
        "            posfixa.append(c)\n",
        "        elif c == '(':\n",
        "            p.push(c)\n",
        "        elif c == ')':\n",
        "            while True:\n",
        "                t = p.pop()\n",
        "                if t != '(':\n",
        "                    posfixa.append(t)\n",
        "                else:\n",
        "                    break\n",
        "        else:\n",
        "            while not p.vazia() and prio[p.topo()] >= prio[c]:\n",
        "                  posfixa.append(p.pop())\n",
        "            p.push(c)\n",
        "    while not p.vazia():\n",
        "        posfixa.append(p.pop())\n",
        "\n",
        "    posfixa = \"\".join(posfixa)\n",
        "\n",
        "    return posfixa\n",
        "\n",
        "\n",
        "\n",
        "\n",
        "def calc_pf(presult):\n",
        "    p = Pilha()\n",
        "    for i in presult:\n",
        "        if i.isnumeric():\n",
        "            p.push(i)\n",
        "        elif i in {\"*\", \"/\", \"+\",\"-\",}:\n",
        "            b = float(p.pop())\n",
        "            a = float(p.pop())\n",
        "            \n",
        "            if i == '*':\n",
        "                c = a * b\n",
        "                p.push(c)\n",
        "            elif i == '/':\n",
        "                c = a / b\n",
        "                p.push(c)\n",
        "            elif i == '+':\n",
        "                c = a + b\n",
        "                p.push(c)\n",
        "            elif i == '-':\n",
        "                c = a - b\n",
        "                p.push(c)\n",
        "\n",
        "    return p.pop()\n",
        "\n",
        "        \n",
        "a = input(': ')\n",
        "ii = pf(a)\n",
        "print(ii)\n",
        "\n",
        "jj = calc_pf(ii)\n",
        "print(jj)"
      ],
      "execution_count": null,
      "outputs": [
        {
          "output_type": "stream",
          "name": "stdout",
          "text": [
            ": 2+2\n",
            "22+\n",
            "4.0\n"
          ]
        }
      ]
    }
  ]
}